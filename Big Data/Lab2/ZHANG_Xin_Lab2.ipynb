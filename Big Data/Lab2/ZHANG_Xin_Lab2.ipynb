{
 "cells": [
  {
   "cell_type": "markdown",
   "metadata": {},
   "source": [
    "# Exercises with Spark"
   ]
  },
  {
   "cell_type": "markdown",
   "metadata": {},
   "source": [
    "## ZHANG Xin"
   ]
  },
  {
   "cell_type": "markdown",
   "metadata": {},
   "source": [
    "## First steps with Spark"
   ]
  },
  {
   "cell_type": "markdown",
   "metadata": {},
   "source": [
    "### 2.1 First RDD"
   ]
  },
  {
   "cell_type": "code",
   "execution_count": null,
   "metadata": {},
   "outputs": [],
   "source": [
    "#2.1\n",
    "import numpy as np\n",
    "\n",
    "rddr = np.arange(0, 3000, 1)\n",
    "rdd21 = sc.parallelize(rddr)"
   ]
  },
  {
   "cell_type": "markdown",
   "metadata": {},
   "source": [
    "### 2.2 Computing the Sum of Cubes"
   ]
  },
  {
   "cell_type": "code",
   "execution_count": 2,
   "metadata": {},
   "outputs": [
    {
     "data": {
      "text/html": [
       "<style scoped>\n",
       "  .ansiout {\n",
       "    display: block;\n",
       "    unicode-bidi: embed;\n",
       "    white-space: pre-wrap;\n",
       "    word-wrap: break-word;\n",
       "    word-break: break-all;\n",
       "    font-family: \"Source Code Pro\", \"Menlo\", monospace;;\n",
       "    font-size: 13px;\n",
       "    color: #555;\n",
       "    margin-left: 4px;\n",
       "    line-height: 19px;\n",
       "  }\n",
       "</style>\n",
       "<div class=\"ansiout\">The sum of elements in C is 20236502250000\n",
       "</div>"
      ]
     },
     "metadata": {},
     "output_type": "display_data"
    }
   ],
   "source": [
    "#2.2\n",
    "rddr22 = np.power(rddr,3)\n",
    "rdd22 = sc.parallelize(rddr22)\n",
    "print(\"The sum of elements in C is \" + str(rdd22.sum()))"
   ]
  },
  {
   "cell_type": "markdown",
   "metadata": {},
   "source": [
    "### 2.3 Last digits of elements in $C$"
   ]
  },
  {
   "cell_type": "code",
   "execution_count": 3,
   "metadata": {},
   "outputs": [
    {
     "data": {
      "text/html": [
       "<style scoped>\n",
       "  .ansiout {\n",
       "    display: block;\n",
       "    unicode-bidi: embed;\n",
       "    white-space: pre-wrap;\n",
       "    word-wrap: break-word;\n",
       "    word-break: break-all;\n",
       "    font-family: \"Source Code Pro\", \"Menlo\", monospace;;\n",
       "    font-size: 13px;\n",
       "    color: #555;\n",
       "    margin-left: 4px;\n",
       "    line-height: 19px;\n",
       "  }\n",
       "</style>\n",
       "<div class=\"ansiout\"><span class=\"ansired\">Out[</span><span class=\"ansired\">41</span><span class=\"ansired\">]: </span>[(0, 300),\n",
       " (1, 300),\n",
       " (2, 300),\n",
       " (3, 300),\n",
       " (4, 300),\n",
       " (5, 300),\n",
       " (6, 300),\n",
       " (7, 300),\n",
       " (8, 300),\n",
       " (9, 300)]</div>"
      ]
     },
     "metadata": {},
     "output_type": "display_data"
    }
   ],
   "source": [
    "#2.3\n",
    "rdd23 = rdd22.map(lambda x : (x%10, 1)).reduceByKey(lambda a, b : a+b)\n",
    "rdd23.sortByKey().collect()"
   ]
  },
  {
   "cell_type": "markdown",
   "metadata": {},
   "source": [
    "### 2.4 Digits of $C$ "
   ]
  },
  {
   "cell_type": "code",
   "execution_count": 4,
   "metadata": {},
   "outputs": [
    {
     "data": {
      "text/html": [
       "<style scoped>\n",
       "  .ansiout {\n",
       "    display: block;\n",
       "    unicode-bidi: embed;\n",
       "    white-space: pre-wrap;\n",
       "    word-wrap: break-word;\n",
       "    word-break: break-all;\n",
       "    font-family: \"Source Code Pro\", \"Menlo\", monospace;;\n",
       "    font-size: 13px;\n",
       "    color: #555;\n",
       "    margin-left: 4px;\n",
       "    line-height: 19px;\n",
       "  }\n",
       "</style>\n",
       "<div class=\"ansiout\"><span class=\"ansired\">Out[</span><span class=\"ansired\">42</span><span class=\"ansired\">]: </span>[(&apos;0&apos;, 3127),\n",
       " (&apos;1&apos;, 3667),\n",
       " (&apos;2&apos;, 3294),\n",
       " (&apos;3&apos;, 2814),\n",
       " (&apos;4&apos;, 2762),\n",
       " (&apos;5&apos;, 2653),\n",
       " (&apos;6&apos;, 2713),\n",
       " (&apos;7&apos;, 2787),\n",
       " (&apos;8&apos;, 2639),\n",
       " (&apos;9&apos;, 2521)]</div>"
      ]
     },
     "metadata": {},
     "output_type": "display_data"
    }
   ],
   "source": [
    "#2.4\n",
    "def digits(i):\n",
    "    return [e for e in str(i)]\n",
    "rdd24 = rdd22.flatMap(lambda x : digits(x)).map(lambda x : (x, 1)).reduceByKey(lambda a, b : a+b)\n",
    "rdd24.sortByKey().collect()"
   ]
  },
  {
   "cell_type": "markdown",
   "metadata": {},
   "source": [
    "## Approximating $\\pi$"
   ]
  },
  {
   "cell_type": "markdown",
   "metadata": {},
   "source": [
    "### 3.1 Step 1 : computing set of pairs"
   ]
  },
  {
   "cell_type": "code",
   "execution_count": 5,
   "metadata": {},
   "outputs": [
    {
     "data": {
      "text/html": [
       "<style scoped>\n",
       "  .ansiout {\n",
       "    display: block;\n",
       "    unicode-bidi: embed;\n",
       "    white-space: pre-wrap;\n",
       "    word-wrap: break-word;\n",
       "    word-break: break-all;\n",
       "    font-family: \"Source Code Pro\", \"Menlo\", monospace;;\n",
       "    font-size: 13px;\n",
       "    color: #555;\n",
       "    margin-left: 4px;\n",
       "    line-height: 19px;\n",
       "  }\n",
       "</style>\n",
       "<div class=\"ansiout\"><span class=\"ansired\">Out[</span><span class=\"ansired\">46</span><span class=\"ansired\">]: </span>9000000</div>"
      ]
     },
     "metadata": {},
     "output_type": "display_data"
    }
   ],
   "source": [
    "#3.1\n",
    "rdd31 = rdd21.cartesian(rdd21)\n",
    "rdd31.max()\n",
    "rdd31.count()"
   ]
  },
  {
   "cell_type": "markdown",
   "metadata": {},
   "source": [
    "### 3.2 Step 2 : computing the pairs"
   ]
  },
  {
   "cell_type": "code",
   "execution_count": 6,
   "metadata": {},
   "outputs": [
    {
     "data": {
      "text/html": [
       "<style scoped>\n",
       "  .ansiout {\n",
       "    display: block;\n",
       "    unicode-bidi: embed;\n",
       "    white-space: pre-wrap;\n",
       "    word-wrap: break-word;\n",
       "    word-break: break-all;\n",
       "    font-family: \"Source Code Pro\", \"Menlo\", monospace;;\n",
       "    font-size: 13px;\n",
       "    color: #555;\n",
       "    margin-left: 4px;\n",
       "    line-height: 19px;\n",
       "  }\n",
       "</style>\n",
       "<div class=\"ansiout\"><span class=\"ansired\">Out[</span><span class=\"ansired\">48</span><span class=\"ansired\">]: </span>7068585</div>"
      ]
     },
     "metadata": {},
     "output_type": "display_data"
    }
   ],
   "source": [
    "#3.2\n",
    "rdd32 = rdd31.filter(lambda x : (2*x[0]+1)**2+(2*x[1]+1)**2<6000**2)\n",
    "rdd32.count()"
   ]
  },
  {
   "cell_type": "markdown",
   "metadata": {},
   "source": [
    "### 3.3 Computing the approximation"
   ]
  },
  {
   "cell_type": "code",
   "execution_count": 7,
   "metadata": {},
   "outputs": [
    {
     "data": {
      "text/html": [
       "<style scoped>\n",
       "  .ansiout {\n",
       "    display: block;\n",
       "    unicode-bidi: embed;\n",
       "    white-space: pre-wrap;\n",
       "    word-wrap: break-word;\n",
       "    word-break: break-all;\n",
       "    font-family: \"Source Code Pro\", \"Menlo\", monospace;;\n",
       "    font-size: 13px;\n",
       "    color: #555;\n",
       "    margin-left: 4px;\n",
       "    line-height: 19px;\n",
       "  }\n",
       "</style>\n",
       "<div class=\"ansiout\">$\\pi$: 3.1415933333333332\n",
       "</div>"
      ]
     },
     "metadata": {},
     "output_type": "display_data"
    }
   ],
   "source": [
    "#3.3\n",
    "print(\"$\\pi$: \" + str(4*(rdd32.count()/rdd31.count())))"
   ]
  },
  {
   "cell_type": "markdown",
   "metadata": {},
   "source": [
    "## Using the Movie Lens dataset"
   ]
  },
  {
   "cell_type": "markdown",
   "metadata": {},
   "source": [
    "### 4.1 Getting the data"
   ]
  },
  {
   "cell_type": "code",
   "execution_count": 8,
   "metadata": {},
   "outputs": [
    {
     "data": {
      "text/html": [
       "<style scoped>\n",
       "  .ansiout {\n",
       "    display: block;\n",
       "    unicode-bidi: embed;\n",
       "    white-space: pre-wrap;\n",
       "    word-wrap: break-word;\n",
       "    word-break: break-all;\n",
       "    font-family: \"Source Code Pro\", \"Menlo\", monospace;;\n",
       "    font-size: 13px;\n",
       "    color: #555;\n",
       "    margin-left: 4px;\n",
       "    line-height: 19px;\n",
       "  }\n",
       "</style>\n",
       "<div class=\"ansiout\"></div>"
      ]
     },
     "metadata": {},
     "output_type": "display_data"
    }
   ],
   "source": [
    "#4.1\n",
    "#Upload the data"
   ]
  },
  {
   "cell_type": "markdown",
   "metadata": {},
   "source": [
    "### 4.2 Getting the dataset into an RDD"
   ]
  },
  {
   "cell_type": "code",
   "execution_count": 9,
   "metadata": {},
   "outputs": [
    {
     "data": {
      "text/html": [
       "<style scoped>\n",
       "  .ansiout {\n",
       "    display: block;\n",
       "    unicode-bidi: embed;\n",
       "    white-space: pre-wrap;\n",
       "    word-wrap: break-word;\n",
       "    word-break: break-all;\n",
       "    font-family: \"Source Code Pro\", \"Menlo\", monospace;;\n",
       "    font-size: 13px;\n",
       "    color: #555;\n",
       "    margin-left: 4px;\n",
       "    line-height: 19px;\n",
       "  }\n",
       "</style>\n",
       "<div class=\"ansiout\"><span class=\"ansired\">Out[</span><span class=\"ansired\">65</span><span class=\"ansired\">]: </span>[[&apos;movieId&apos;, &apos;title&apos;, &apos;genres&apos;],\n",
       " [&apos;1&apos;, &apos;Toy Story (1995)&apos;, &apos;Adventure|Animation|Children|Comedy|Fantasy&apos;]]</div>"
      ]
     },
     "metadata": {},
     "output_type": "display_data"
    }
   ],
   "source": [
    "#4.2\n",
    "import re\n",
    "future_pattern = re.compile(\"\"\"([^,\"]+|\"[^\"]+\")(?=,|$)\"\"\")\n",
    "def parseCSV(line):\n",
    "    return future_pattern.findall(line)\n",
    "path_data = \"/FileStore/tables/\"\n",
    "ratingsFile = sc.textFile(path_data+\"/ratings.csv\").map(parseCSV)\n",
    "moviesFile = sc.textFile(path_data+\"/movies.csv\").map(parseCSV)\n",
    "moviesFile.take(2)"
   ]
  },
  {
   "cell_type": "code",
   "execution_count": 10,
   "metadata": {},
   "outputs": [
    {
     "data": {
      "text/html": [
       "<style scoped>\n",
       "  .ansiout {\n",
       "    display: block;\n",
       "    unicode-bidi: embed;\n",
       "    white-space: pre-wrap;\n",
       "    word-wrap: break-word;\n",
       "    word-break: break-all;\n",
       "    font-family: \"Source Code Pro\", \"Menlo\", monospace;;\n",
       "    font-size: 13px;\n",
       "    color: #555;\n",
       "    margin-left: 4px;\n",
       "    line-height: 19px;\n",
       "  }\n",
       "</style>\n",
       "<div class=\"ansiout\"><span class=\"ansired\">Out[</span><span class=\"ansired\">67</span><span class=\"ansired\">]: </span>[[&apos;userId&apos;, &apos;movieId&apos;, &apos;rating&apos;, &apos;timestamp&apos;], [&apos;1&apos;, &apos;1&apos;, &apos;4.0&apos;, &apos;964982703&apos;]]</div>"
      ]
     },
     "metadata": {},
     "output_type": "display_data"
    }
   ],
   "source": [
    "#4.2\n",
    "ratingsFile.take(2)"
   ]
  },
  {
   "cell_type": "markdown",
   "metadata": {},
   "source": [
    "### 4.3 Cleaning data"
   ]
  },
  {
   "cell_type": "code",
   "execution_count": 11,
   "metadata": {},
   "outputs": [
    {
     "data": {
      "text/html": [
       "<style scoped>\n",
       "  .ansiout {\n",
       "    display: block;\n",
       "    unicode-bidi: embed;\n",
       "    white-space: pre-wrap;\n",
       "    word-wrap: break-word;\n",
       "    word-break: break-all;\n",
       "    font-family: \"Source Code Pro\", \"Menlo\", monospace;;\n",
       "    font-size: 13px;\n",
       "    color: #555;\n",
       "    margin-left: 4px;\n",
       "    line-height: 19px;\n",
       "  }\n",
       "</style>\n",
       "<div class=\"ansiout\"><span class=\"ansired\">Out[</span><span class=\"ansired\">68</span><span class=\"ansired\">]: </span>[[&apos;1&apos;, &apos;1&apos;, &apos;4.0&apos;, &apos;964982703&apos;], [&apos;1&apos;, &apos;3&apos;, &apos;4.0&apos;, &apos;964981247&apos;]]</div>"
      ]
     },
     "metadata": {},
     "output_type": "display_data"
    }
   ],
   "source": [
    "#4.3\n",
    "header = ratingsFile.first() #extract header\n",
    "ratings = ratingsFile.filter(lambda row : row != header)   #filter out header\n",
    "ratings.take(2)"
   ]
  },
  {
   "cell_type": "code",
   "execution_count": 12,
   "metadata": {},
   "outputs": [
    {
     "data": {
      "text/html": [
       "<style scoped>\n",
       "  .ansiout {\n",
       "    display: block;\n",
       "    unicode-bidi: embed;\n",
       "    white-space: pre-wrap;\n",
       "    word-wrap: break-word;\n",
       "    word-break: break-all;\n",
       "    font-family: \"Source Code Pro\", \"Menlo\", monospace;;\n",
       "    font-size: 13px;\n",
       "    color: #555;\n",
       "    margin-left: 4px;\n",
       "    line-height: 19px;\n",
       "  }\n",
       "</style>\n",
       "<div class=\"ansiout\"><span class=\"ansired\">Out[</span><span class=\"ansired\">69</span><span class=\"ansired\">]: </span>[[&apos;1&apos;, &apos;Toy Story (1995)&apos;, &apos;Adventure|Animation|Children|Comedy|Fantasy&apos;],\n",
       " [&apos;2&apos;, &apos;Jumanji (1995)&apos;, &apos;Adventure|Children|Fantasy&apos;]]</div>"
      ]
     },
     "metadata": {},
     "output_type": "display_data"
    }
   ],
   "source": [
    "mHeader = moviesFile.first() #extract header\n",
    "movies = moviesFile.filter(lambda row : row != mHeader)   #filter out header\n",
    "movies.take(2)"
   ]
  },
  {
   "cell_type": "code",
   "execution_count": 13,
   "metadata": {},
   "outputs": [
    {
     "data": {
      "text/html": [
       "<style scoped>\n",
       "  .ansiout {\n",
       "    display: block;\n",
       "    unicode-bidi: embed;\n",
       "    white-space: pre-wrap;\n",
       "    word-wrap: break-word;\n",
       "    word-break: break-all;\n",
       "    font-family: \"Source Code Pro\", \"Menlo\", monospace;;\n",
       "    font-size: 13px;\n",
       "    color: #555;\n",
       "    margin-left: 4px;\n",
       "    line-height: 19px;\n",
       "  }\n",
       "</style>\n",
       "<div class=\"ansiout\"><span class=\"ansired\">Out[</span><span class=\"ansired\">78</span><span class=\"ansired\">]: </span>[[&apos;1&apos;, &apos;1&apos;, 4.0, &apos;964982703&apos;],\n",
       " [&apos;1&apos;, &apos;3&apos;, 4.0, &apos;964981247&apos;],\n",
       " [&apos;1&apos;, &apos;6&apos;, 4.0, &apos;964982224&apos;],\n",
       " [&apos;1&apos;, &apos;47&apos;, 5.0, &apos;964983815&apos;],\n",
       " [&apos;1&apos;, &apos;50&apos;, 5.0, &apos;964982931&apos;],\n",
       " [&apos;1&apos;, &apos;70&apos;, 3.0, &apos;964982400&apos;],\n",
       " [&apos;1&apos;, &apos;101&apos;, 5.0, &apos;964980868&apos;],\n",
       " [&apos;1&apos;, &apos;110&apos;, 4.0, &apos;964982176&apos;],\n",
       " [&apos;1&apos;, &apos;151&apos;, 5.0, &apos;964984041&apos;],\n",
       " [&apos;1&apos;, &apos;157&apos;, 5.0, &apos;964984100&apos;]]</div>"
      ]
     },
     "metadata": {},
     "output_type": "display_data"
    }
   ],
   "source": [
    "#cast the third column\n",
    "ratings = ratings.map(lambda x : [x[0],x[1],float(x[2]),x[3]])\n",
    "ratings.take(10)"
   ]
  },
  {
   "cell_type": "markdown",
   "metadata": {},
   "source": [
    "### 4.4 10 best movies of all times"
   ]
  },
  {
   "cell_type": "code",
   "execution_count": 14,
   "metadata": {},
   "outputs": [
    {
     "data": {
      "text/html": [
       "<style scoped>\n",
       "  .ansiout {\n",
       "    display: block;\n",
       "    unicode-bidi: embed;\n",
       "    white-space: pre-wrap;\n",
       "    word-wrap: break-word;\n",
       "    word-break: break-all;\n",
       "    font-family: \"Source Code Pro\", \"Menlo\", monospace;;\n",
       "    font-size: 13px;\n",
       "    color: #555;\n",
       "    margin-left: 4px;\n",
       "    line-height: 19px;\n",
       "  }\n",
       "</style>\n",
       "<div class=\"ansiout\"><span class=\"ansired\">Out[</span><span class=\"ansired\">86</span><span class=\"ansired\">]: </span>[[&apos;158882&apos;, 5.0],\n",
       " [&apos;60737&apos;, 5.0],\n",
       " [&apos;27704&apos;, 5.0],\n",
       " [&apos;175431&apos;, 5.0],\n",
       " [&apos;25906&apos;, 5.0],\n",
       " [&apos;136834&apos;, 5.0],\n",
       " [&apos;104780&apos;, 5.0],\n",
       " [&apos;134095&apos;, 5.0],\n",
       " [&apos;1310&apos;, 5.0],\n",
       " [&apos;72692&apos;, 5.0]]</div>"
      ]
     },
     "metadata": {},
     "output_type": "display_data"
    }
   ],
   "source": [
    "#4.4\n",
    "rankRating = ratings.map(lambda x : (x[1],[x[2],1])).reduceByKey( lambda x, y : (x[0] + y[0], x[1] + y[1])).map(lambda x : [x[0],x[1][0]/x[1][1]])\n",
    "rankRating.sortBy(lambda x : -x[1]).take(10)"
   ]
  },
  {
   "cell_type": "markdown",
   "metadata": {},
   "source": [
    "### 4.5 Ordered list of movies with names"
   ]
  },
  {
   "cell_type": "code",
   "execution_count": 15,
   "metadata": {},
   "outputs": [
    {
     "data": {
      "text/html": [
       "<style scoped>\n",
       "  .ansiout {\n",
       "    display: block;\n",
       "    unicode-bidi: embed;\n",
       "    white-space: pre-wrap;\n",
       "    word-wrap: break-word;\n",
       "    word-break: break-all;\n",
       "    font-family: \"Source Code Pro\", \"Menlo\", monospace;;\n",
       "    font-size: 13px;\n",
       "    color: #555;\n",
       "    margin-left: 4px;\n",
       "    line-height: 19px;\n",
       "  }\n",
       "</style>\n",
       "<div class=\"ansiout\"><span class=\"ansired\">Out[</span><span class=\"ansired\">95</span><span class=\"ansired\">]: </span>[(&apos;All Yours (2016)&apos;, 5.0),\n",
       " (&apos;Watching the Detectives (2007)&apos;, 5.0),\n",
       " (&apos;Battle Royale 2: Requiem (Batoru rowaiaru II: Chinkonka) (2003)&apos;, 5.0),\n",
       " (&apos;Presto (2008)&apos;, 5.0),\n",
       " (&apos;Into the Abyss (2011)&apos;, 5.0),\n",
       " (&apos;Black Tar Heroin: The Dark End of the Street (2000)&apos;, 5.0),\n",
       " (&apos;Nasu: Summer in Andalusia (2003)&apos;, 5.0),\n",
       " (&apos;Human (2015)&apos;, 5.0),\n",
       " (&apos;Tokyo Tribe (2014)&apos;, 5.0),\n",
       " (&apos;Hollywood Chainsaw Hookers (1988)&apos;, 5.0)]</div>"
      ]
     },
     "metadata": {},
     "output_type": "display_data"
    }
   ],
   "source": [
    "#4.5\n",
    "rankj = rankRating.map(lambda x : (x[0],x[1]))\n",
    "moviesj = movies.map(lambda x : (x[0],x[1]))\n",
    "joined = rankj.join(moviesj).map(lambda x : (x[1][1],x[1][0]))\n",
    "joined.sortBy(lambda x : -x[1]).take(10)"
   ]
  },
  {
   "cell_type": "markdown",
   "metadata": {},
   "source": [
    "### 4.6 Better ordered list"
   ]
  },
  {
   "cell_type": "code",
   "execution_count": 16,
   "metadata": {},
   "outputs": [
    {
     "data": {
      "text/html": [
       "<style scoped>\n",
       "  .ansiout {\n",
       "    display: block;\n",
       "    unicode-bidi: embed;\n",
       "    white-space: pre-wrap;\n",
       "    word-wrap: break-word;\n",
       "    word-break: break-all;\n",
       "    font-family: \"Source Code Pro\", \"Menlo\", monospace;;\n",
       "    font-size: 13px;\n",
       "    color: #555;\n",
       "    margin-left: 4px;\n",
       "    line-height: 19px;\n",
       "  }\n",
       "</style>\n",
       "<div class=\"ansiout\"><span class=\"ansired\">Out[</span><span class=\"ansired\">96</span><span class=\"ansired\">]: </span>[[&apos;318&apos;, 4.415094339622642],\n",
       " [&apos;858&apos;, 4.266839378238342],\n",
       " [&apos;1104&apos;, 4.261904761904762],\n",
       " [&apos;2959&apos;, 4.2534246575342465],\n",
       " [&apos;1221&apos;, 4.226923076923077],\n",
       " [&apos;750&apos;, 4.224489795918367],\n",
       " [&apos;177593&apos;, 4.222222222222222],\n",
       " [&apos;50&apos;, 4.217073170731707],\n",
       " [&apos;1213&apos;, 4.216535433070866],\n",
       " [&apos;260&apos;, 4.214285714285714]]</div>"
      ]
     },
     "metadata": {},
     "output_type": "display_data"
    }
   ],
   "source": [
    "#4.6\n",
    "#first formula\n",
    "newRating1 = ratings.map(lambda x : (x[1],[x[2],1])).reduceByKey( lambda x, y : (x[0] + y[0], x[1] + y[1])).map(lambda x : [x[0],x[1][0]/(x[1][1]+1)])\n",
    "newRating1.sortBy(lambda x : -x[1]).take(10)"
   ]
  },
  {
   "cell_type": "code",
   "execution_count": 17,
   "metadata": {},
   "outputs": [
    {
     "data": {
      "text/html": [
       "<style scoped>\n",
       "  .ansiout {\n",
       "    display: block;\n",
       "    unicode-bidi: embed;\n",
       "    white-space: pre-wrap;\n",
       "    word-wrap: break-word;\n",
       "    word-break: break-all;\n",
       "    font-family: \"Source Code Pro\", \"Menlo\", monospace;;\n",
       "    font-size: 13px;\n",
       "    color: #555;\n",
       "    margin-left: 4px;\n",
       "    line-height: 19px;\n",
       "  }\n",
       "</style>\n",
       "<div class=\"ansiout\"><span class=\"ansired\">Out[</span><span class=\"ansired\">97</span><span class=\"ansired\">]: </span>[(&apos;&quot;Shawshank Redemption, The (1994)&quot;&apos;, 4.415094339622642),\n",
       " (&apos;&quot;Godfather, The (1972)&quot;&apos;, 4.266839378238342),\n",
       " (&apos;&quot;Streetcar Named Desire, A (1951)&quot;&apos;, 4.261904761904762),\n",
       " (&apos;Fight Club (1999)&apos;, 4.2534246575342465),\n",
       " (&apos;&quot;Godfather: Part II, The (1974)&quot;&apos;, 4.226923076923077),\n",
       " (&apos;Dr. Strangelove or: How I Learned to Stop Worrying and Love the Bomb (1964)&apos;,\n",
       "  4.224489795918367),\n",
       " (&apos;&quot;Three Billboards Outside Ebbing, Missouri (2017)&quot;&apos;, 4.222222222222222),\n",
       " (&apos;&quot;Usual Suspects, The (1995)&quot;&apos;, 4.217073170731707),\n",
       " (&apos;Goodfellas (1990)&apos;, 4.216535433070866),\n",
       " (&apos;Star Wars: Episode IV - A New Hope (1977)&apos;, 4.214285714285714)]</div>"
      ]
     },
     "metadata": {},
     "output_type": "display_data"
    }
   ],
   "source": [
    "rankj1 = newRating1.map(lambda x : (x[0],x[1]))\n",
    "newJoined1 = rankj1.join(moviesj).map(lambda x : (x[1][1],x[1][0]))\n",
    "newJoined1.sortBy(lambda x : -x[1]).take(10)"
   ]
  },
  {
   "cell_type": "code",
   "execution_count": 18,
   "metadata": {},
   "outputs": [
    {
     "data": {
      "text/html": [
       "<style scoped>\n",
       "  .ansiout {\n",
       "    display: block;\n",
       "    unicode-bidi: embed;\n",
       "    white-space: pre-wrap;\n",
       "    word-wrap: break-word;\n",
       "    word-break: break-all;\n",
       "    font-family: \"Source Code Pro\", \"Menlo\", monospace;;\n",
       "    font-size: 13px;\n",
       "    color: #555;\n",
       "    margin-left: 4px;\n",
       "    line-height: 19px;\n",
       "  }\n",
       "</style>\n",
       "<div class=\"ansiout\"><span class=\"ansired\">Out[</span><span class=\"ansired\">99</span><span class=\"ansired\">]: </span>[(&apos;&quot;Shawshank Redemption, The (1994)&quot;&apos;, 25.506303124680446),\n",
       " (&apos;Forrest Gump (1994)&apos;, 24.135559630846686),\n",
       " (&apos;Pulp Fiction (1994)&apos;, 24.035971735394476),\n",
       " (&apos;&quot;Matrix, The (1999)&quot;&apos;, 23.593497870526754),\n",
       " (&apos;&quot;Silence of the Lambs, The (1991)&quot;&apos;, 23.43310709209536),\n",
       " (&apos;Star Wars: Episode IV - A New Hope (1977)&apos;, 23.37860964684444),\n",
       " (&apos;Fight Club (1999)&apos;, 23.007601610036865),\n",
       " (&quot;Schindler&apos;s List (1993)&quot;, 22.788076383338726),\n",
       " (&apos;Star Wars: Episode V - The Empire Strikes Back (1980)&apos;, 22.561506207236786),\n",
       " (&apos;&quot;Godfather, The (1972)&quot;&apos;, 22.549726244087907)]</div>"
      ]
     },
     "metadata": {},
     "output_type": "display_data"
    }
   ],
   "source": [
    "#Second formula\n",
    "import math\n",
    "newRating2 = ratings.map(lambda x : (x[1],[x[2],1])).reduceByKey( lambda x, y : (x[0] + y[0], x[1] + y[1])).map(lambda x : [x[0],x[1][0]/(x[1][1])*math.log(x[1][1])])\n",
    "newRating2.sortBy(lambda x : -x[1]).take(10)\n",
    "rankj2 = newRating2.map(lambda x : (x[0],x[1]))\n",
    "newJoined2 = rankj2.join(moviesj).map(lambda x : (x[1][1],x[1][0]))\n",
    "newJoined2.sortBy(lambda x : -x[1]).take(10)"
   ]
  }
 ],
 "metadata": {
  "kernelspec": {
   "display_name": "Python 3",
   "language": "python",
   "name": "python3"
  },
  "name": "Spark Lab Session",
  "notebookId": 3503404673950772,
  "varInspector": {
   "cols": {
    "lenName": 16,
    "lenType": 16,
    "lenVar": 40
   },
   "kernels_config": {
    "python": {
     "delete_cmd_postfix": "",
     "delete_cmd_prefix": "del ",
     "library": "var_list.py",
     "varRefreshCmd": "print(var_dic_list())"
    },
    "r": {
     "delete_cmd_postfix": ") ",
     "delete_cmd_prefix": "rm(",
     "library": "var_list.r",
     "varRefreshCmd": "cat(var_dic_list()) "
    }
   },
   "types_to_exclude": [
    "module",
    "function",
    "builtin_function_or_method",
    "instance",
    "_Feature"
   ],
   "window_display": false
  }
 },
 "nbformat": 4,
 "nbformat_minor": 1
}
