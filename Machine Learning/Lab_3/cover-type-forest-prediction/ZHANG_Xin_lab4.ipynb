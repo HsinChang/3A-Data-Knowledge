{
 "cells": [
  {
   "cell_type": "code",
   "execution_count": 1,
   "metadata": {
    "collapsed": true,
    "pycharm": {
     "is_executing": false
    }
   },
   "outputs": [],
   "source": [
    "import pandas\n",
    "import numpy as np\n",
    "data = pandas.read_csv('train-set.csv')\n",
    "train_X = data.iloc[:, 1:-1]\n",
    "train_y = data.iloc[:, -1]\n",
    "test_X_temp = pandas.read_csv('test-set.csv')\n",
    "test_X = test_X_temp.iloc[:, 1:]"
   ]
  },
  {
   "cell_type": "code",
   "execution_count": 2,
   "outputs": [],
   "source": [
    "#The initial idea was to replace exclusive columns like Soil_Type and Wilderness_Area, but delete old columns will not\n",
    "#give a better result, so newly created columns are kept.\n",
    "def exclusive_comb(X_temp):\n",
    "    features = X_temp\n",
    "    \n",
    "    features['Soil_Type'] = 0\n",
    "    for i in range(1, 41):\n",
    "        features['Soil_Type'] = features['Soil_Type'] + i * X_temp['Soil_Type'+str(i)]\n",
    "        #features.drop('Soil_Type'+str(i),inplace=True, axis=1)\n",
    "    \n",
    "    features['Wilderness_Area'] = 0\n",
    "    for i in range(1, 5):\n",
    "        features['Wilderness_Area'] = features['Wilderness_Area'] + i * X_temp['Wilderness_Area'+str(i)]\n",
    "        #features.drop('Wilderness_Area'+str(i), inplace=True, axis=1)\n",
    "        \n",
    "    features['Distance_To_Hydrology'] = (features['Horizontal_Distance_To_Hydrology']**2 + features['Vertical_Distance_To_Hydrology']**2)**0.5\n",
    "    #features.drop(['Horizontal_Distance_To_Hydrology', 'Vertical_Distance_To_Hydrology'], axis = 1, inplace = True)\n",
    "    \n",
    "    features['Ele_minus_VDtHyd'] = features['Elevation']-features['Vertical_Distance_To_Hydrology']\n",
    "    features['Ele_plus_VDtHyd'] = features['Elevation']+features['Vertical_Distance_To_Hydrology']\n",
    "    features['Hydro_plus_Fire'] = features['Horizontal_Distance_To_Hydrology']+features['Horizontal_Distance_To_Fire_Points']\n",
    "    features['Hydro_minus_Fire'] = features['Horizontal_Distance_To_Hydrology']-features['Horizontal_Distance_To_Fire_Points']\n",
    "    features['Hydro_plus_Road'] = features['Horizontal_Distance_To_Hydrology']+features['Horizontal_Distance_To_Roadways']\n",
    "    features['Hydro_minus_Road'] = features['Horizontal_Distance_To_Hydrology']-features['Horizontal_Distance_To_Roadways']\n",
    "    features['Fire_plus_Road'] = features['Horizontal_Distance_To_Fire_Points']+features['Horizontal_Distance_To_Roadways']\n",
    "    features['Fire_minus_Road'] = features['Horizontal_Distance_To_Fire_Points']-features['Horizontal_Distance_To_Roadways']\n",
    "    \n",
    "    return features"
   ],
   "metadata": {
    "collapsed": false,
    "pycharm": {
     "name": "#%%\n",
     "is_executing": false
    }
   }
  },
  {
   "cell_type": "code",
   "execution_count": 3,
   "outputs": [
    {
     "name": "stderr",
     "text": [
      "C:\\ProgramData\\Anaconda3\\lib\\site-packages\\ipykernel_launcher.py:5: SettingWithCopyWarning: \nA value is trying to be set on a copy of a slice from a DataFrame.\nTry using .loc[row_indexer,col_indexer] = value instead\n\nSee the caveats in the documentation: http://pandas.pydata.org/pandas-docs/stable/indexing.html#indexing-view-versus-copy\n  \"\"\"\n",
      "C:\\ProgramData\\Anaconda3\\lib\\site-packages\\ipykernel_launcher.py:7: SettingWithCopyWarning: \nA value is trying to be set on a copy of a slice from a DataFrame.\nTry using .loc[row_indexer,col_indexer] = value instead\n\nSee the caveats in the documentation: http://pandas.pydata.org/pandas-docs/stable/indexing.html#indexing-view-versus-copy\n  import sys\n"
     ],
     "output_type": "stream"
    }
   ],
   "source": [
    "train_X = exclusive_comb(train_X)\n",
    "test_X = exclusive_comb(test_X)"
   ],
   "metadata": {
    "collapsed": false,
    "pycharm": {
     "name": "#%%\n",
     "is_executing": false
    }
   }
  },
  {
   "cell_type": "code",
   "execution_count": 23,
   "outputs": [],
   "source": [
    "from sklearn.linear_model import LogisticRegression\n",
    "logreg = LogisticRegression()\n",
    "logreg.fit(train_X, train_y)\n",
    "result_y = logreg.predict(test_X)\n"
   ],
   "metadata": {
    "collapsed": false,
    "pycharm": {
     "name": "#%%\n",
     "is_executing": false
    }
   }
  },
  {
   "cell_type": "code",
   "execution_count": 7,
   "outputs": [],
   "source": [
    "from sklearn.ensemble import RandomForestClassifier\n",
    "rfc = RandomForestClassifier(n_estimators = 100, criterion='entropy')\n",
    "rfc.fit(train_X, train_y)\n",
    "result_y = rfc.predict(test_X)\n",
    "predictions = pandas.DataFrame({'Id': test_X_temp.iloc[:,0], 'Cover_Type': result_y})"
   ],
   "metadata": {
    "collapsed": false,
    "pycharm": {
     "name": "#%%\n",
     "is_executing": false
    }
   }
  },
  {
   "cell_type": "code",
   "execution_count": null,
   "outputs": [],
   "source": [
    "from sklearn.ensemble import GradientBoostingClassifier\n",
    "xbc = GradientBoostingClassifier()\n",
    "xbc.fit(train_X, train_y)\n",
    "result_y = xbc.predict(test_X)\n",
    "predictions = pandas.DataFrame({'Id': test_X_temp.iloc[:,0], 'Cover_Type': result_y})"
   ],
   "metadata": {
    "collapsed": false,
    "pycharm": {
     "name": "#%% \n"
    }
   }
  },
  {
   "cell_type": "code",
   "execution_count": 38,
   "outputs": [
    {
     "name": "stderr",
     "text": [
      "C:\\ProgramData\\Anaconda3\\lib\\site-packages\\sklearn\\neural_network\\multilayer_perceptron.py:566: UserWarning: Training interrupted by user.\n  warnings.warn(\"Training interrupted by user.\")\n"
     ],
     "output_type": "stream"
    }
   ],
   "source": [
    "from sklearn.neural_network import MLPClassifier\n",
    "mlp = MLPClassifier()\n",
    "mlp.fit(train_X, train_y)\n",
    "result_y = mlp.predict(test_X)\n",
    "predictions = pandas.DataFrame({'Id': test_X_temp.iloc[:,0], 'Cover_Type': result_y})"
   ],
   "metadata": {
    "collapsed": false,
    "pycharm": {
     "name": "#%%\n",
     "is_executing": false
    }
   }
  },
  {
   "cell_type": "code",
   "execution_count": 6,
   "outputs": [],
   "source": [
    "#In the first run of selecting classifiers with default parameters, best result is achieved by ExtraTreesClassifier\n",
    "#So the cross validation is performed here\n",
    "from sklearn.metrics import fbeta_score, make_scorer, accuracy_score\n",
    "from sklearn.model_selection  import StratifiedShuffleSplit\n",
    "from sklearn.model_selection  import GridSearchCV\n",
    "from sklearn.ensemble import ExtraTreesClassifier\n",
    "rfc = ExtraTreesClassifier()\n",
    "parameters = {'n_estimators': [ 50, 100, 200, 500 ],\n",
    "                  'criterion': ['gini','entropy'],\n",
    "                  #'min_samples_split': [0.1, 0.05, 0.02, 0.01], \n",
    "                  #'max_depth': [4, 6],\n",
    "                  'max_features': [1.0, 0.3, 0.1]\n",
    "                 }\n",
    "scorer = make_scorer(fbeta_score, beta=0.5, average='weighted')\n",
    "cv = StratifiedShuffleSplit(train_y, test_size=0.2, random_state=42)\n",
    "grid_obj = GridSearchCV(rfc, param_grid=parameters, cv=cv, scoring=scorer, verbose=1)\n",
    "grid_fit = grid_obj.fit(train_X, train_y)\n",
    "rfc_best    = grid_obj.best_estimator_\n",
    "rfc_best.fit(train_X, train_y)\n",
    "result_y = rfc_best.predict(test_X)\n",
    "predictions = pandas.DataFrame({'Id': test_X_temp.iloc[:,0], 'Cover_Type': result_y})"
   ],
   "metadata": {
    "collapsed": false,
    "pycharm": {
     "name": "#%%\n",
     "is_executing": false
    }
   }
  },
  {
   "cell_type": "code",
   "execution_count": 7,
   "outputs": [],
   "source": [
    "predictions.to_csv('predictions.csv', index=False)\n"
   ],
   "metadata": {
    "collapsed": false,
    "pycharm": {
     "name": "#%%\n",
     "is_executing": false
    }
   }
  }
 ],
 "metadata": {
  "language_info": {
   "codemirror_mode": {
    "name": "ipython",
    "version": 2
   },
   "file_extension": ".py",
   "mimetype": "text/x-python",
   "name": "python",
   "nbconvert_exporter": "python",
   "pygments_lexer": "ipython2",
   "version": "2.7.6"
  },
  "kernelspec": {
   "name": "python3",
   "language": "python",
   "display_name": "Python 3"
  },
  "pycharm": {
   "stem_cell": {
    "cell_type": "raw",
    "source": [],
    "metadata": {
     "collapsed": false
    }
   }
  }
 },
 "nbformat": 4,
 "nbformat_minor": 0
}