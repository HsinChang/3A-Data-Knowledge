{
 "cells": [
  {
   "cell_type": "code",
   "execution_count": 24,
   "metadata": {
    "collapsed": true,
    "pycharm": {
     "is_executing": false
    }
   },
   "outputs": [],
   "source": [
    "import pandas\n",
    "data = pandas.read_csv('covtype.csv')\n",
    "X = data.iloc[:, 0:-1]\n",
    "y = data.iloc[:, -1]\n"
   ]
  },
  {
   "cell_type": "code",
   "execution_count": 23,
   "outputs": [],
   "source": [
    "import cmath\n",
    "def comb(X_temp):\n",
    "    features = X_temp\n",
    "    \n",
    "    features['Soil_Type'] = 0\n",
    "    for i in range(1, 41):\n",
    "        features['Soil_Type'] = features['Soil_Type'] + i * X_temp['Soil_Type'+str(i)]\n",
    "        features.drop('Soil_Type'+str(i),inplace=True, axis=1)\n",
    "    \n",
    "    features['Wilderness_Area'] = 0\n",
    "    for i in range(1, 5):\n",
    "        features['Wilderness_Area'] = features['Wilderness_Area'] + i * X_temp['Wilderness_Area'+str(i)]\n",
    "        features.drop('Wilderness_Area'+str(i), inplace=True, axis=1)\n",
    "    \n",
    "    features['Distance_To_Hydrology'] = (features['Horizontal_Distance_To_Hydrology']**2 + features['Vertical_Distance_To_Hydrology']**2)**0.5\n",
    "    features.drop(['Horizontal_Distance_To_Hydrology', 'Vertical_Distance_To_Hydrology'], axis = 1, inplace = True)\n",
    "    \n",
    "    return features\n"
   ],
   "metadata": {
    "collapsed": false,
    "pycharm": {
     "name": "#%%\n",
     "is_executing": false
    }
   }
  },
  {
   "cell_type": "code",
   "execution_count": 25,
   "outputs": [],
   "source": [
    "X_try = comb(X)"
   ],
   "metadata": {
    "collapsed": false,
    "pycharm": {
     "name": "#%%\n",
     "is_executing": false
    }
   }
  },
  {
   "cell_type": "code",
   "execution_count": 26,
   "outputs": [],
   "source": [
    "import numpy as np\n",
    "from sklearn.model_selection import train_test_split\n",
    "X_train, X_test, y_train, y_test = train_test_split(X_try, y, test_size=0.33, random_state=42)"
   ],
   "metadata": {
    "collapsed": false,
    "pycharm": {
     "name": "#%%\n",
     "is_executing": false
    }
   }
  },
  {
   "cell_type": "code",
   "execution_count": 28,
   "outputs": [],
   "source": [
    "from sklearn.ensemble import RandomForestClassifier\n",
    "from sklearn.ensemble import ExtraTreesClassifier\n",
    "rfc = ExtraTreesClassifier(max_features = 0.3, n_estimators=100)\n",
    "rfc.fit(X_train, y_train)\n",
    "y_pre = rfc.predict(X_test)\n",
    "y_local = rfc.predict(X_train)\n",
    "from sklearn.metrics import accuracy_score\n",
    "score_local = accuracy_score(y_train, y_local)\n",
    "score = accuracy_score(y_test, y_pre)\n",
    "\n"
   ],
   "metadata": {
    "collapsed": false,
    "pycharm": {
     "name": "#%%\n",
     "is_executing": false
    }
   }
  }
 ],
 "metadata": {
  "language_info": {
   "codemirror_mode": {
    "name": "ipython",
    "version": 2
   },
   "file_extension": ".py",
   "mimetype": "text/x-python",
   "name": "python",
   "nbconvert_exporter": "python",
   "pygments_lexer": "ipython2",
   "version": "2.7.6"
  },
  "kernelspec": {
   "name": "python3",
   "language": "python",
   "display_name": "Python 3"
  },
  "pycharm": {
   "stem_cell": {
    "cell_type": "raw",
    "source": [],
    "metadata": {
     "collapsed": false
    }
   }
  }
 },
 "nbformat": 4,
 "nbformat_minor": 0
}