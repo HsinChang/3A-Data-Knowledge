{
 "cells": [
  {
   "cell_type": "markdown",
   "metadata": {},
   "source": [
    "# scikit-learn Lab\n",
    "\n",
    " - scikit-learn is the leading machine learning software in Python\n",
    " - scikit-learn is a project started in Paris, Inria and Telecom Paris\n",
    " - scilkit-learn is easy to use and extend"
   ]
  },
  {
   "cell_type": "markdown",
   "metadata": {},
   "source": [
    "# I Tutorial"
   ]
  },
  {
   "cell_type": "markdown",
   "metadata": {},
   "source": [
    "## 1. Install scikit-learn:\n",
    "\n",
    "- https://scikit-learn.org/stable/install.html\n"
   ]
  },
  {
   "cell_type": "markdown",
   "metadata": {},
   "source": [
    "## 2. Follow the scikit-learn tutorial\n",
    "\n",
    "- https://scikit-learn.org/stable/tutorial/basic/tutorial.html"
   ]
  },
  {
   "cell_type": "markdown",
   "metadata": {},
   "source": [
    "## 3. Train your first classifier\n"
   ]
  },
  {
   "cell_type": "markdown",
   "metadata": {},
   "source": [
    "### Import packages"
   ]
  },
  {
   "cell_type": "code",
   "execution_count": 1,
   "metadata": {},
   "outputs": [],
   "source": [
    "import numpy as np\n",
    "from sklearn import datasets"
   ]
  },
  {
   "cell_type": "markdown",
   "metadata": {},
   "source": [
    "### Load and parse datafile"
   ]
  },
  {
   "cell_type": "code",
   "execution_count": 2,
   "metadata": {},
   "outputs": [
    {
     "name": "stdout",
     "output_type": "stream",
     "text": [
      "150\n"
     ]
    },
    {
     "data": {
      "text/plain": [
       "array([0, 1, 2])"
      ]
     },
     "execution_count": 2,
     "metadata": {},
     "output_type": "execute_result"
    }
   ],
   "source": [
    "iris = datasets.load_iris()\n",
    "iris_X = iris.data\n",
    "iris_y = iris.target\n",
    "print(len(iris_X))\n",
    "np.unique(iris_y)"
   ]
  },
  {
   "cell_type": "markdown",
   "metadata": {},
   "source": [
    "### Split data into training and test sets"
   ]
  },
  {
   "cell_type": "code",
   "execution_count": 3,
   "metadata": {},
   "outputs": [],
   "source": [
    "# Split iris data in train and test data\n",
    "# A random permutation, to split the data randomly\n",
    "\n",
    "np.random.seed(0)\n",
    "indices = np.random.permutation(len(iris_X))\n",
    "iris_X_train = iris_X[indices[:-10]]\n",
    "iris_y_train = iris_y[indices[:-10]]\n",
    "iris_X_test = iris_X[indices[-10:]]\n",
    "iris_y_test = iris_y[indices[-10:]]"
   ]
  },
  {
   "cell_type": "markdown",
   "metadata": {},
   "source": [
    "### Train a k-nearest neaighbors model"
   ]
  },
  {
   "cell_type": "code",
   "execution_count": 4,
   "metadata": {},
   "outputs": [
    {
     "data": {
      "text/plain": [
       "KNeighborsClassifier(algorithm='auto', leaf_size=30, metric='minkowski',\n",
       "           metric_params=None, n_jobs=1, n_neighbors=5, p=2,\n",
       "           weights='uniform')"
      ]
     },
     "execution_count": 4,
     "metadata": {},
     "output_type": "execute_result"
    }
   ],
   "source": [
    "# Create and fit a k−nearest−neighbor classifier\n",
    "from sklearn.neighbors import KNeighborsClassifier\n",
    "knn = KNeighborsClassifier()\n",
    "knn.fit(iris_X_train, iris_y_train)"
   ]
  },
  {
   "cell_type": "markdown",
   "metadata": {},
   "source": [
    "### Evaluate model on test instances and compute test error"
   ]
  },
  {
   "cell_type": "code",
   "execution_count": 5,
   "metadata": {},
   "outputs": [
    {
     "data": {
      "text/plain": [
       "array([1, 2, 1, 0, 0, 0, 2, 1, 2, 0])"
      ]
     },
     "execution_count": 5,
     "metadata": {},
     "output_type": "execute_result"
    }
   ],
   "source": [
    "from sklearn.metrics import accuracy_score\n",
    "knn.predict(iris_X_test)"
   ]
  },
  {
   "cell_type": "code",
   "execution_count": 6,
   "metadata": {},
   "outputs": [
    {
     "data": {
      "text/plain": [
       "array([1, 1, 1, 0, 0, 0, 2, 1, 2, 0])"
      ]
     },
     "execution_count": 6,
     "metadata": {},
     "output_type": "execute_result"
    }
   ],
   "source": [
    "iris_y_test"
   ]
  },
  {
   "cell_type": "code",
   "execution_count": 7,
   "metadata": {},
   "outputs": [
    {
     "data": {
      "text/plain": [
       "0.9"
      ]
     },
     "execution_count": 7,
     "metadata": {},
     "output_type": "execute_result"
    }
   ],
   "source": [
    "accuracy_score(iris_y_test, knn.predict(iris_X_test))"
   ]
  },
  {
   "cell_type": "markdown",
   "metadata": {},
   "source": [
    "# II Task 1\n",
    "\n",
    " ### - What is the error of the KNN classifier trained in previous step?\n",
    " ### - What is the optimal parameter k for KNN classifier for iris dataset?"
   ]
  },
  {
   "cell_type": "markdown",
   "metadata": {},
   "source": [
    "### Training error"
   ]
  },
  {
   "cell_type": "code",
   "execution_count": 8,
   "metadata": {},
   "outputs": [
    {
     "data": {
      "text/plain": [
       "0.9714285714285714"
      ]
     },
     "execution_count": 8,
     "metadata": {},
     "output_type": "execute_result"
    }
   ],
   "source": [
    "accuracy_score(iris_y_train, knn.predict(iris_X_train))"
   ]
  },
  {
   "cell_type": "code",
   "execution_count": 32,
   "metadata": {},
   "outputs": [
    {
     "data": {
      "image/png": "[encoded data removed]",
      "text/plain": [
       "<Figure size 432x288 with 2 Axes>"
      ]
     },
     "metadata": {},
     "output_type": "display_data"
    }
   ],
   "source": [
    "import matplotlib.pyplot as plt\n",
    "import math\n",
    "import numpy as np\n",
    "\n",
    "ks = []\n",
    "ksr = []\n",
    "ksrt = []\n",
    "\n",
    "for i in range (1, 50):\n",
    "    k = i #math.sqrt(i)/2\n",
    "    ks.append(k)\n",
    "    knn = KNeighborsClassifier(n_neighbors=k)\n",
    "    knn.fit(iris_X_train, iris_y_train)\n",
    "    ksr.append(1 - accuracy_score(iris_y_test, knn.predict(iris_X_test)))\n",
    "    ksrt.append(1 - accuracy_score(iris_y_train, knn.predict(iris_X_train)))\n",
    "\n",
    "\n",
    "plt.subplot(2,1,1)\n",
    "plt.plot(ks, ksr, label = 'Test Error')\n",
    "plt.plot(ks, ksrt, 'r', label = \"Generalization error\")\n",
    "plt.title(\"Accuracy of k from 1 to 50\")\n",
    "plt.legend(loc = 'upper right')\n",
    "\n",
    "plt.subplot(2,1,2)\n",
    "plt.plot(ks[:10], ksr[:10],label = 'Test Error')\n",
    "plt.plot(ks[:10], ksrt[:10],'r',label = \"Generalization error\")\n",
    "plt.title(\"Zoom in from 1 to 10\")\n",
    "plt.legend(loc = 'upper right')\n",
    "plt.tight_layout()\n"
   ]
  },
  {
   "cell_type": "markdown",
   "metadata": {},
   "source": [
    "As we have seen from the graph, the optimal **K** is 8."
   ]
  },
  {
   "cell_type": "markdown",
   "metadata": {},
   "source": [
    "# III Task 2\n",
    "\n",
    "### - Train another two classifiers for iris dataset. The documentation for supervised learning methods available in scikit-learn: https://scikit-learn.org/stable/supervised_learning.html#supervised-learning\n",
    "### - Use cross-validation to evaluate classifiers.\n",
    "### - Compare evaluation results of the three classifiers."
   ]
  },
  {
   "cell_type": "markdown",
   "metadata": {},
   "source": [
    "### Cross validation of KNN"
   ]
  },
  {
   "cell_type": "code",
   "execution_count": 47,
   "metadata": {},
   "outputs": [
    {
     "name": "stdout",
     "output_type": "stream",
     "text": [
      "[0.97777778 0.95555556 0.95555556 0.93333333 0.97777778 0.95555556\n",
      " 0.97777778 0.97777778 0.97777778 0.97777778]\n"
     ]
    }
   ],
   "source": [
    "from sklearn.model_selection import train_test_split\n",
    "from sklearn.model_selection import cross_val_score\n",
    "from sklearn import cross_validation\n",
    "from sklearn import metrics\n",
    "\n",
    "n_samples = iris.data.shape[0]\n",
    "knn = KNeighborsClassifier()\n",
    "cv = cross_validation.ShuffleSplit(n_samples, n_iter=10, test_size=0.3, random_state=0)\n",
    "rslk = cross_validation.cross_val_score(knn, iris.data, iris.target, cv=cv)\n",
    "print(rslk)"
   ]
  },
  {
   "cell_type": "markdown",
   "metadata": {},
   "source": [
    "### Cross validation of SVM"
   ]
  },
  {
   "cell_type": "code",
   "execution_count": 48,
   "metadata": {},
   "outputs": [
    {
     "name": "stdout",
     "output_type": "stream",
     "text": [
      "[0.97777778 0.95555556 0.97777778 0.93333333 0.97777778 0.95555556\n",
      " 1.         1.         1.         0.97777778]\n"
     ]
    }
   ],
   "source": [
    "\n",
    "from sklearn import svm\n",
    "\n",
    "n_samples = iris.data.shape[0]\n",
    "clf = svm.SVC()\n",
    "cv = cross_validation.ShuffleSplit(n_samples, n_iter=10, test_size=0.3, random_state=0)\n",
    "rsls = cross_validation.cross_val_score(clf, iris.data, iris.target, cv=cv)\n",
    "print(rsls)"
   ]
  },
  {
   "cell_type": "markdown",
   "metadata": {},
   "source": [
    "### Cross validation of Random Forest"
   ]
  },
  {
   "cell_type": "code",
   "execution_count": 49,
   "metadata": {},
   "outputs": [
    {
     "name": "stdout",
     "output_type": "stream",
     "text": [
      "[0.97777778 0.91111111 0.97777778 0.91111111 0.95555556 0.91111111\n",
      " 0.95555556 1.         0.97777778 0.97777778]\n"
     ]
    }
   ],
   "source": [
    "from sklearn.ensemble import RandomForestClassifier\n",
    "\n",
    "n_samples = iris.data.shape[0]\n",
    "clf = RandomForestClassifier()\n",
    "cv = cross_validation.ShuffleSplit(n_samples, n_iter=10, test_size=0.3, random_state=0)\n",
    "rslr = cross_validation.cross_val_score(clf, iris.data, iris.target, cv=cv)\n",
    "print(rslr)"
   ]
  },
  {
   "cell_type": "markdown",
   "metadata": {},
   "source": [
    "### Camparison"
   ]
  },
  {
   "cell_type": "code",
   "execution_count": 55,
   "metadata": {
    "scrolled": true
   },
   "outputs": [
    {
     "data": {
      "text/plain": [
       "<matplotlib.legend.Legend at 0x2ccd04c0fd0>"
      ]
     },
     "execution_count": 55,
     "metadata": {},
     "output_type": "execute_result"
    },
    {
     "data": {
      "image/png": "[encoded data removed]",
      "text/plain": [
       "<Figure size 432x288 with 1 Axes>"
      ]
     },
     "metadata": {},
     "output_type": "display_data"
    }
   ],
   "source": [
    "x = np.arange(0,10,1)\n",
    "plt.plot(x, rslk, 'r', label=\"KNN\")\n",
    "plt.plot(x, rsls,'g', label=\"SVM\")\n",
    "plt.plot(x, rslr,'b', label=\"Random Forest\")\n",
    "plt.xlabel('Cross Validation')\n",
    "plt.ylabel('Accuracy')\n",
    "plt.title('Comparison of Three Classifiers')\n",
    "plt.legend(loc = 'upper left')"
   ]
  },
  {
   "cell_type": "markdown",
   "metadata": {},
   "source": [
    "### Analysis"
   ]
  },
  {
   "cell_type": "markdown",
   "metadata": {},
   "source": [
    "From the results above, we can see that the best result is reached by SVM, and the Random Forest has the worst. But as we have a small training set with no more than 200 samples, it's normal for SVM to reach the best result. On the other hand, as the dataset is small, any prunning happen in random forest will greatly influence the result. Moreover, as KNN is insensitive to abnormal samples, it's harder for it to reach 100% accuracy. "
   ]
  },
  {
   "cell_type": "markdown",
   "metadata": {},
   "source": [
    "# Submission:\n",
    "\n",
    "### This lab is due on 16th of October, 2019. Your report, in the form of Jupyter Notebook and pdf, send on: filippo.miatto@telecom-paristech.fr "
   ]
  }
 ],
 "metadata": {
  "kernelspec": {
   "display_name": "Python 3",
   "language": "python",
   "name": "python3"
  },
  "varInspector": {
   "cols": {
    "lenName": 16,
    "lenType": 16,
    "lenVar": 40
   },
   "kernels_config": {
    "python": {
     "delete_cmd_postfix": "",
     "delete_cmd_prefix": "del ",
     "library": "var_list.py",
     "varRefreshCmd": "print(var_dic_list())"
    },
    "r": {
     "delete_cmd_postfix": ") ",
     "delete_cmd_prefix": "rm(",
     "library": "var_list.r",
     "varRefreshCmd": "cat(var_dic_list()) "
    }
   },
   "types_to_exclude": [
    "module",
    "function",
    "builtin_function_or_method",
    "instance",
    "_Feature"
   ],
   "window_display": false
  }
 },
 "nbformat": 4,
 "nbformat_minor": 2
}
